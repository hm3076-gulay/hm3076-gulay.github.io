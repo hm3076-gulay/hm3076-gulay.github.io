{
 "cells": [
  {
   "cell_type": "markdown",
   "id": "7f8f04c1",
   "metadata": {},
   "source": [
    "# Lecture 16 Example"
   ]
  },
  {
   "cell_type": "code",
   "execution_count": null,
   "id": "9939b44f",
   "metadata": {
    "vscode": {
     "languageId": "plaintext"
    }
   },
   "outputs": [],
   "source": [
    "import pandas as pd\n",
    "import plotly.express as px\n",
    "\n",
    "# example\n",
    "df = px.data.tips()\n",
    "df.head()\n"
   ]
  }
 ],
 "metadata": {
  "language_info": {
   "name": "python"
  }
 },
 "nbformat": 4,
 "nbformat_minor": 5
}
